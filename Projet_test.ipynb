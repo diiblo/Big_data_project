{
 "cells": [
  {
   "cell_type": "code",
   "execution_count": 1,
   "id": "cf0bd329-f88d-4dc1-b985-eadf94e71b25",
   "metadata": {},
   "outputs": [],
   "source": [
    "from pyspark.sql import SparkSession\n",
    "\n",
    "# Configuration de la SparkSession pour se connecter au cluster\n",
    "spark = SparkSession.builder \\\n",
    "    .master(\"spark://pyspark-master:7077\") \\\n",
    "    .appName(\"MySparkApp\") \\\n",
    "    .config(\"spark.executor.memory\", \"1g\") \\\n",
    "    .config(\"spark.jars\", \"/usr/local/spark/jars/postgresql-42.6.0.jar\") \\\n",
    "    .getOrCreate()"
   ]
  },
  {
   "cell_type": "code",
   "execution_count": 2,
   "id": "137ed661-5afa-4ad9-ae95-ae1a08d05be4",
   "metadata": {},
   "outputs": [],
   "source": [
    "df_spark = spark.read \\\n",
    "    .format(\"jdbc\") \\\n",
    "    .option(\"url\", \"jdbc:postgresql://pg-ds-dellstore:5432/dellstore\") \\\n",
    "    .option(\"dbtable\", \"public.customer_orders\") \\\n",
    "    .option(\"user\", \"postgres\") \\\n",
    "    .option(\"password\", \"postgres\") \\\n",
    "    .load()"
   ]
  },
  {
   "cell_type": "code",
   "execution_count": 3,
   "id": "784fce80-92f5-4deb-b8b1-60b3ff2d1831",
   "metadata": {},
   "outputs": [
    {
     "name": "stdout",
     "output_type": "stream",
     "text": [
      "+----------+---------+----------+---------+-------+-----+-----+------------+---+------+------+-------+----------+---------+-----+-----------+\n",
      "|customerid|firstname|  lastname| username|   city|state|  zip|     country|age|gender|income|orderid| orderdate|netamount|  tax|totalamount|\n",
      "+----------+---------+----------+---------+-------+-----+-----+------------+---+------+------+-------+----------+---------+-----+-----------+\n",
      "|      7888|   RNGILZ|JDZTEGAEMA| user7888|BRLLCUQ|   NH|96140|          US| 49|     F| 20000|      1|2004-01-27|   313.24|25.84|     339.08|\n",
      "|      4858|   SKULRB|OVWOIYIDDL| user4858|IQIDDJY|   IA|98082|          US| 56|     M| 20000|      2|2004-01-01|    54.90| 4.53|      59.43|\n",
      "|     15399|   YMIUWA|QWMSNYIQOS|user15399|ZQSKLUS| NULL|    0|South Africa| 60|     M| 40000|      3|2004-01-17|   160.10|13.21|     173.31|\n",
      "|     17019|   CMLJDQ|BAFBVWATJO|user17019|TVSVKVW| NULL|    0|South Africa| 44|     M| 60000|      4|2004-01-28|   106.67| 8.80|     115.47|\n",
      "|     14771|   JIDXLK|JSCBIDJQER|user14771|KEFQJES| NULL|    0|      Canada| 44|     F| 40000|      5|2004-01-09|   256.00|21.12|     277.12|\n",
      "+----------+---------+----------+---------+-------+-----+-----+------------+---+------+------+-------+----------+---------+-----+-----------+\n",
      "only showing top 5 rows\n",
      "\n",
      "+----------+---------+----------+---------+-------+-----+-----+------------+---+------+------+-------+----------+---------+-----+-----------+\n",
      "|customerid|firstname|  lastname| username|   city|state|  zip|     country|age|gender|income|orderid| orderdate|netamount|  tax|totalamount|\n",
      "+----------+---------+----------+---------+-------+-----+-----+------------+---+------+------+-------+----------+---------+-----+-----------+\n",
      "|     17019|   CMLJDQ|BAFBVWATJO|user17019|TVSVKVW| NULL|    0|South Africa| 44|     M| 60000|      4|2004-01-28|   106.67| 8.80|     115.47|\n",
      "|     13734|   LZDSUG|IVPANISCDP|user13734|ZJKFXPF| NULL|    0|       Japan| 55|     F| 60000|      6|2004-01-11|   382.59|31.56|     414.15|\n",
      "|     14902|   TKIQVP|HAWAGDCUKT|user14902|JHSGQSV| NULL|    0|     Germany| 51|     M| 60000|      9|2004-01-06|    29.82| 2.46|      32.28|\n",
      "|      1082|   EVGVVG|BUWCDWMOIS| user1082|XEHBWXD|   IA|98113|          US| 47|     F| 80000|     11|2004-01-31|   348.22|28.73|     376.95|\n",
      "|     15146|   XKCQUY|SQKDBWMVVK|user15146|HCSLUEO| NULL|    0|      Russia| 86|     M| 80000|     13|2004-01-17|   121.72|10.04|     131.76|\n",
      "|      1540|   PIQHFH|HARCEUESIQ| user1540|TKLKWFU|   MD|52494|          US| 33|     F| 60000|     14|2004-01-28|   259.89|21.44|     281.33|\n",
      "|     12662|   CIYGHH|OIVGNINKCN|user12662|EAYHVQE| NULL|    0|   Australia| 58|     M|100000|     15|2004-01-03|    89.47| 7.38|      96.85|\n",
      "|        65|   DOAUDE|PLBACKUWHM|   user65|VUUDXBM|   MI|89266|          US| 57|     F| 80000|     16|2004-01-14|   137.98|11.38|     149.36|\n",
      "|      4045|   WSGVOP|FRQTPCUFCF| user4045|SSVGAOK|   DC|47340|          US| 33|     M| 60000|     18|2004-01-23|   368.37|30.39|     398.76|\n",
      "|      5479|   OVPMOP|LIZZSSPEUH| user5479|IQLWCLC|   OR|72044|          US| 20|     F| 60000|     21|2004-01-06|   345.84|28.53|     374.37|\n",
      "|     14486|   HSBIVS|QZQNSKJOXO|user14486|DJPBPMH| NULL|    0|       Chile| 73|     F| 60000|     22|2004-01-26|    71.29| 5.88|      77.17|\n",
      "|      5310|   YFZWDP|FMRDZHLJVN| user5310|WYKBHCN|   TN|95681|          US| 42|     F| 80000|     25|2004-01-19|   263.50|21.74|     285.24|\n",
      "|      6765|   MNEIRI|PUSKIGEOWR| user6765|BJWPGWB|   MT|15364|          US| 79|     M| 60000|     26|2004-01-31|   359.03|29.62|     388.65|\n",
      "|      2294|   ZEVRQT|OHIARMJAOQ| user2294|QXPZHSI|   CA|76894|          US| 58|     F| 80000|     27|2004-01-10|   346.22|28.56|     374.78|\n",
      "|      1069|   GQWHOW|IPRUCOOYOQ| user1069|WZBFGND|   ID|47622|          US| 55|     M|100000|     28|2004-01-02|   183.09|15.10|     198.19|\n",
      "|     16597|   AIOMCT|CMHNCJDLUN|user16597|RWXJDTV| NULL|    0|   Australia| 75|     M| 60000|     29|2004-01-08|    28.04| 2.31|      30.35|\n",
      "|     12854|   UWQOBC|UCKZVPDQNV|user12854|GLOWHKR| NULL|    0|       Japan| 22|     F|100000|     34|2004-01-20|   207.41|17.11|     224.52|\n",
      "|      3340|   KFWBIM|VGTJDYRBRJ| user3340|TLUJLKL|   WI|98559|          US| 22|     F| 60000|     38|2004-01-15|   318.20|26.25|     344.45|\n",
      "|     16259|   MXGOSN|GGBPDWIQNN|user16259|SXWMLMS| NULL|    0|       China| 59|     M|100000|     40|2004-01-18|   233.08|19.23|     252.31|\n",
      "|      9258|   EDCCWX|FFQBBUSHLL| user9258|JMNRFSN|   ID|57364|          US| 65|     F| 60000|     41|2004-01-23|   175.43|14.47|     189.90|\n",
      "+----------+---------+----------+---------+-------+-----+-----+------------+---+------+------+-------+----------+---------+-----+-----------+\n",
      "only showing top 20 rows\n",
      "\n",
      "+------------+---------------+\n",
      "|     country|avg_totalamount|\n",
      "+------------+---------------+\n",
      "|      Russia|     209.238219|\n",
      "|     Germany|     211.954076|\n",
      "|      France|     205.988648|\n",
      "|       China|     216.131461|\n",
      "|       Chile|     212.656952|\n",
      "|          US|     214.647070|\n",
      "|          UK|     207.341505|\n",
      "|      Canada|     215.290986|\n",
      "|       Japan|     209.461591|\n",
      "|   Australia|     221.577465|\n",
      "|South Africa|     222.587576|\n",
      "+------------+---------------+\n",
      "\n"
     ]
    }
   ],
   "source": [
    "#df_spark.show()\n",
    "# Montrer un échantillon des données\n",
    "df_spark.show(5)\n",
    "\n",
    "# Exemple 1 : Filtrer les clients ayant un revenu supérieur à 50 000\n",
    "df_high_income = df_spark.filter(df_spark[\"income\"] > 50000)\n",
    "\n",
    "# Montrer les résultats filtrés\n",
    "df_high_income.show()\n",
    "\n",
    "# Exemple 2 : Calculer la moyenne des montants totaux par pays\n",
    "df_avg_total_by_country = df_spark.groupBy(\"country\").avg(\"totalamount\")\n",
    "\n",
    "# Renommer les colonnes pour plus de clarté\n",
    "df_avg_total_by_country = df_avg_total_by_country.withColumnRenamed(\"avg(totalamount)\", \"avg_totalamount\")\n",
    "\n",
    "# Montrer les moyennes par pays\n",
    "df_avg_total_by_country.show()"
   ]
  },
  {
   "cell_type": "code",
   "execution_count": 4,
   "id": "9287b912-7da5-43d6-8367-8da8e1e32079",
   "metadata": {},
   "outputs": [],
   "source": [
    "# Créer une nouvelle table avec les clients ayant un revenu > 50 000\n",
    "df_high_income.write \\\n",
    "    .format(\"jdbc\") \\\n",
    "    .option(\"url\", \"jdbc:postgresql://pg-ds-dellstore:5432/dellstore\") \\\n",
    "    .option(\"dbtable\", \"public.high_income_customers\") \\\n",
    "    .option(\"user\", \"postgres\") \\\n",
    "    .option(\"password\", \"postgres\") \\\n",
    "    .option(\"driver\", \"org.postgresql.Driver\") \\\n",
    "    .mode(\"overwrite\") \\\n",
    "    .save()"
   ]
  },
  {
   "cell_type": "code",
   "execution_count": 5,
   "id": "0654979d-aeaf-48e4-a178-cc05d8b2839d",
   "metadata": {},
   "outputs": [],
   "source": [
    "# Créer une nouvelle table avec la moyenne des montants totaux par pays\n",
    "df_avg_total_by_country.write \\\n",
    "    .format(\"jdbc\") \\\n",
    "    .option(\"url\", \"jdbc:postgresql://pg-ds-dellstore:5432/dellstore\") \\\n",
    "    .option(\"dbtable\", \"public.avg_total_by_country\") \\\n",
    "    .option(\"user\", \"postgres\") \\\n",
    "    .option(\"password\", \"postgres\") \\\n",
    "    .option(\"driver\", \"org.postgresql.Driver\") \\\n",
    "    .mode(\"overwrite\") \\\n",
    "    .save()"
   ]
  }
 ],
 "metadata": {
  "kernelspec": {
   "display_name": "Python 3 (ipykernel)",
   "language": "python",
   "name": "python3"
  },
  "language_info": {
   "codemirror_mode": {
    "name": "ipython",
    "version": 3
   },
   "file_extension": ".py",
   "mimetype": "text/x-python",
   "name": "python",
   "nbconvert_exporter": "python",
   "pygments_lexer": "ipython3",
   "version": "3.11.6"
  }
 },
 "nbformat": 4,
 "nbformat_minor": 5
}
